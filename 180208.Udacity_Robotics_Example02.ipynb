{
 "cells": [
  {
   "cell_type": "code",
   "execution_count": 4,
   "metadata": {},
   "outputs": [
    {
     "name": "stdout",
     "output_type": "stream",
     "text": [
      "joint0_angle = 240.9 degrees\n",
      "joint1_angle = 110.8 degrees\n",
      "End Effector at x = 16.4 y = -27.1\n"
     ]
    },
    {
     "data": {
      "image/png": "[encoded data removed]",
      "text/plain": [
       "<matplotlib.figure.Figure at 0x7f403710f940>"
      ]
     },
     "metadata": {},
     "output_type": "display_data"
    }
   ],
   "source": [
    "import matplotlib.pyplot as plt\n",
    "import numpy as np\n",
    "\n",
    "# Define a function to compute the arm configuration\n",
    "def compute_arm_config(link1_length, link2_length, joint0_angle, joint1_angle):\n",
    "    # TODO: compute the position of the p1 joint and the end effector at p2.        \n",
    "    joint1_x = link1_length * np.cos(joint0_angle)\n",
    "    joint1_y = link1_length * np.sin(joint0_angle)\n",
    "    p2_x = joint1_x + link2_length * np.cos(joint0_angle + joint1_angle)\n",
    "    p2_y = joint1_y + link2_length * np.sin(joint0_angle + joint1_angle)\n",
    "    return joint1_x, joint1_y, p2_x, p2_y\n",
    "    \n",
    "# Generate random link lengths and joint angles\n",
    "# Note: because these are randomly generated on each run\n",
    "# Every time you run the code you'll get a different result!\n",
    "link1_length = np.random.random() * 30 + 20\n",
    "link2_length = np.random.random() * 30 + 20\n",
    "joint0_angle = np.random.random() * 2 * np.pi\n",
    "joint1_angle = np.random.random() * 2 * np.pi\n",
    "\n",
    "joint1_x, joint1_y, p2_x, p2_y = compute_arm_config(link1_length, link2_length, joint0_angle, joint1_angle)\n",
    "\n",
    "print(\"joint0_angle =\", round(joint0_angle * 180 / np.pi, 1), \"degrees\") \n",
    "print(\"joint1_angle =\", round(joint1_angle * 180 / np.pi, 1),\"degrees\") \n",
    "print(\"End Effector at x =\", round(p2_x, 1),\"y =\", round(p2_y, 1))\n",
    "base_x = 0\n",
    "base_y = 0\n",
    "# Plot the links\n",
    "plt.plot([base_x, joint1_x, p2_x], [base_y, joint1_y, p2_y])\n",
    "# Plot the base as a blue square\n",
    "plt.plot(base_x, base_y, 'bs', markersize=15, label='Base')\n",
    "# Plot Joint-1 as a red circle\n",
    "plt.plot(joint1_x, joint1_y, 'ro', markersize=15, label='Joint-1')\n",
    "# Plot End Effector as a green triangle\n",
    "plt.plot(p2_x, p2_y, 'g^', markersize=15, label='End Effector')\n",
    "plt.xlim(-100, 100)\n",
    "plt.ylim(-100, 100)\n",
    "plt.legend(fontsize=15)\n",
    "plt.show()"
   ]
  },
  {
   "cell_type": "markdown",
   "metadata": {},
   "source": [
    "## Sympy 测试"
   ]
  },
  {
   "cell_type": "code",
   "execution_count": 6,
   "metadata": {},
   "outputs": [
    {
     "name": "stdout",
     "output_type": "stream",
     "text": [
      "Rotation about the X-axis by 45-degrees\n",
      "Matrix([[1.00000000000000, 0, 0], [0, 0.707106781186548, -0.707106781186547], [0, 0.707106781186547, 0.707106781186548]])\n",
      "Rotation about the y-axis by 45-degrees\n",
      "Matrix([[0.707106781186548, 0, 0.707106781186547], [0, 1.00000000000000, 0], [-0.707106781186547, 0, 0.707106781186548]])\n",
      "Rotation about the Z-axis by 30-degrees\n",
      "Matrix([[0.866025403784439, -0.500000000000000, 0], [0.500000000000000, 0.866025403784439, 0], [0, 0, 1.00000000000000]])\n"
     ]
    }
   ],
   "source": [
    "from sympy import symbols, cos, sin, pi, simplify\n",
    "from sympy.matrices import Matrix\n",
    "import numpy as np\n",
    "\n",
    "### Create symbols for joint variables which are commonly represented by \"q\"\n",
    "### Joint variable \"q\" is equal to \"ϴ\" or \"d\" depending if the joint is revolute or prismatic\n",
    "q1, q2, q3, q4 = symbols('q1:5') # remember slices do not include the end value. slices 不包含最后一个\n",
    "# unrelated symbols can be defined like this:\n",
    "A, R, O, C = symbols('A R O C')\n",
    "\n",
    "# Conversion Factors\n",
    "rtd = 180./np.pi # radians to degrees\n",
    "dtr = np.pi/180. # degrees to radians\n",
    "\n",
    "\n",
    "\n",
    "R_x = Matrix([[ 1,              0,        0],\n",
    "              [ 0,        cos(q1), -sin(q1)],\n",
    "              [ 0,        sin(q1),  cos(q1)]])\n",
    "\n",
    "R_y = Matrix([[ cos(q2),        0,  sin(q2)],\n",
    "              [       0,        1,        0],\n",
    "              [-sin(q2),        0,  cos(q2)]])\n",
    "\n",
    "R_z = Matrix([[ cos(q3), -sin(q3),        0],\n",
    "              [ sin(q3),  cos(q3),        0],\n",
    "              [ 0,              0,        1]])\n",
    "\n",
    "print(\"Rotation about the X-axis by 45-degrees\")\n",
    "print(R_x.evalf(subs={q1: 45*dtr}))\n",
    "# 更改 q1 变量为 45度，看矩阵的运算结果。\n",
    "# evalf：To evaluate a numerical expression into a floating point number\n",
    "\n",
    "print(\"Rotation about the y-axis by 45-degrees\")\n",
    "print(R_y.evalf(subs={q2: 45*dtr}))\n",
    "\n",
    "print(\"Rotation about the Z-axis by 30-degrees\")\n",
    "print(R_z.evalf(subs={q3: 30*dtr}))"
   ]
  },
  {
   "cell_type": "markdown",
   "metadata": {},
   "source": [
    "### Intrinsic Rotation"
   ]
  },
  {
   "cell_type": "code",
   "execution_count": 20,
   "metadata": {},
   "outputs": [
    {
     "data": {
      "text/plain": [
       "Matrix([\n",
       "[ cos(q1)*cos(q2), -sin(q2)*cos(q1), sin(q1)],\n",
       "[         sin(q2),          cos(q2),       0],\n",
       "[-sin(q1)*cos(q2),  sin(q1)*sin(q2), cos(q1)]])"
      ]
     },
     "execution_count": 20,
     "metadata": {},
     "output_type": "execute_result"
    }
   ],
   "source": [
    "from sympy import symbols, cos, sin, pi, sqrt\n",
    "from sympy.matrices import Matrix\n",
    "\n",
    "### Create symbols for joint variables\n",
    "q1, q2 = symbols('q1:3') # slices 不包含最后一个\n",
    "\n",
    "# Create a symbolic matrix representing an intrinsic sequence of rotations \n",
    "  # about the Y and then Z axes. Let the rotation about the Y axis be described\n",
    "  # by q1 and the rotation about Z by q2. \n",
    "####### TO DO ########\n",
    "# Replace R_y and R_z with the appropriate (symbolic) elementary rotation matrices \n",
    "  # and then compute YZ_intrinsic. \n",
    "R_y = Matrix([[ cos(q1),        0, sin(q1)],\n",
    "              [ 0,              1,       0],\n",
    "              [-sin(q1),        0, cos(q1)]])\n",
    "R_z = Matrix([[ cos(q2), -sin(q2),       0],\n",
    "              [ sin(q2),  cos(q2),       0],\n",
    "              [       0,        0,       1]])\n",
    "\n",
    "YZ_intrinsic_sym = R_y * R_z\n",
    "YZ_intrinsic_num = YZ_intrinsic_sym.evalf(subs={q1: pi/4, q2: pi/3})\n",
    "\n",
    "YZ_intrinsic_sym\n"
   ]
  },
  {
   "cell_type": "markdown",
   "metadata": {},
   "source": [
    "### Extrinsic Rotation"
   ]
  },
  {
   "cell_type": "code",
   "execution_count": 21,
   "metadata": {},
   "outputs": [
    {
     "data": {
      "text/plain": [
       "Matrix([\n",
       "[ cos(q1)*cos(q2), -sin(q2)*cos(q1), sin(q1)],\n",
       "[         sin(q2),          cos(q2),       0],\n",
       "[-sin(q1)*cos(q2),  sin(q1)*sin(q2), cos(q1)]])"
      ]
     },
     "execution_count": 21,
     "metadata": {},
     "output_type": "execute_result"
    }
   ],
   "source": [
    "from sympy import symbols, cos, sin, pi, sqrt\n",
    "from sympy.matrices import Matrix\n",
    "\n",
    "### Create symbols for joint variables\n",
    "q1, q2 = symbols('q1:3')\n",
    "\n",
    "# Create a symbolic matrix representing an extrinsic sequence of rotations \n",
    "  # about the Z and then Y axes. Let the rotation about the Y axis be described\n",
    "  # by q1 and the rotation about Z by q2. \n",
    "####### TO DO ########\n",
    "# Replace R_y and R_z with the appropriate (symbolic) elementary rotation matrices \n",
    "  # and then compute ZY_extrinsic. \n",
    "R_y = Matrix([[ cos(q1),        0, sin(q1)],\n",
    "              [ 0,              1,       0],\n",
    "              [-sin(q1),        0, cos(q1)]])\n",
    "R_z = Matrix([[ cos(q2), -sin(q2),       0],\n",
    "              [ sin(q2),  cos(q2),       0],\n",
    "              [       0,        0,       1]])\n",
    "ZY_extrinsic_sym = R_y * R_z\n",
    "ZY_extrinsic_num = ZY_extrinsic_sym.evalf(subs={q1: pi/4, q2: pi/3})\n",
    "\n",
    "ZY_extrinsic_sym\n"
   ]
  },
  {
   "cell_type": "markdown",
   "metadata": {},
   "source": [
    "### Angule from Matrix\n",
    "- 使用 atan2 函数\n",
    "- atan2 allows calculating the arctangent of all four quadrants. \n",
    "- atan only allows calculating from quadrants 1 and 3. 当 x>0, y<0 和 x<0, y>0 时没有对应的结果\n",
    "\n"
   ]
  },
  {
   "cell_type": "code",
   "execution_count": 23,
   "metadata": {},
   "outputs": [
    {
     "name": "stdout",
     "output_type": "stream",
     "text": [
      "alpha is =  0.785398163397448 radians or  45.0000000000000 degrees\n",
      "beta  is =  1.04719755119660 radians or  60.0000000000000 degrees\n",
      "gamma is =  0.523598775598299 radians or  30.0000000000000 degrees\n"
     ]
    }
   ],
   "source": [
    "#!/usr/bin/env python\n",
    "import numpy as np\n",
    "from sympy.matrices import Matrix\n",
    "from sympy import symbols, atan2, sqrt\n",
    "\n",
    "# Conversion Factors\n",
    "rtd = 180/np.pi\n",
    "dtr = np.pi/180\n",
    "\n",
    "# Fixed Axis X-Y-Z Rotation Matrix\n",
    "R_XYZ = Matrix([[ 0.353553390593274, -0.306186217847897, 0.883883476483184],\n",
    "                [ 0.353553390593274,  0.918558653543692, 0.176776695296637],\n",
    "                [-0.866025403784439,               0.25, 0.433012701892219]])\n",
    "\n",
    "### Identify useful terms from rotation matrix\n",
    "r31 = R_XYZ[2,0]\n",
    "r11 = R_XYZ[0,0]\n",
    "r21 = R_XYZ[1,0]\n",
    "r32 = R_XYZ[2,1]\n",
    "r33 = R_XYZ[2,2]\n",
    "\n",
    "\n",
    "### Euler Angles from Rotation Matrix\n",
    "  # sympy synatx for atan2 is atan2(y, x)\n",
    "beta  = atan2(-r31, sqrt(r11 * r11 + r21 * r21)) * rtd\n",
    "gamma = atan2(r32, r33) * rtd\n",
    "alpha = atan2(r21, r11) * rtd\n",
    "\n",
    "\n",
    "print(\"alpha is = \",alpha*dtr, \"radians\", \"or \", alpha, \"degrees\")\n",
    "print(\"beta  is = \",beta*dtr,  \"radians\", \"or \", beta, \"degrees\")\n",
    "print(\"gamma is = \",gamma*dtr, \"radians\", \"or \", gamma, \"degrees\")"
   ]
  }
 ],
 "metadata": {
  "kernelspec": {
   "display_name": "Python [conda env:RoboND]",
   "language": "python",
   "name": "conda-env-RoboND-py"
  },
  "language_info": {
   "codemirror_mode": {
    "name": "ipython",
    "version": 3
   },
   "file_extension": ".py",
   "mimetype": "text/x-python",
   "name": "python",
   "nbconvert_exporter": "python",
   "pygments_lexer": "ipython3",
   "version": "3.5.2"
  },
  "widgets": {
   "state": {},
   "version": "1.1.2"
  }
 },
 "nbformat": 4,
 "nbformat_minor": 2
}
